{
 "cells": [
  {
   "cell_type": "code",
   "execution_count": 13,
   "id": "54c08c9b-9b94-41ac-ae69-6586d7622403",
   "metadata": {},
   "outputs": [
    {
     "name": "stdout",
     "output_type": "stream",
     "text": [
      "KML file and map have been created.\n"
     ]
    }
   ],
   "source": [
    "import geopy.distance\n",
    "from simplekml import Kml\n",
    "import folium\n",
    "\n",
    "# Original coordinate (latitude, longitude)\n",
    "origin = (17.117113, 79.837709)\n",
    "\n",
    "# Convert 10 feet to meters (1 foot = 0.3048 meters)\n",
    "step = 98.4252 * 0.3048\n",
    "\n",
    "# 1 hectare = 10000 square meters\n",
    "# Area of 1 hectare in meters is a square of side length 100 meters\n",
    "side_length = 100\n",
    "\n",
    "# Number of steps in one direction (both latitude and longitude)\n",
    "steps = int(side_length // step)\n",
    "\n",
    "# List to store generated coordinates\n",
    "coordinates = []\n",
    "\n",
    "for i in range(steps + 1):\n",
    "    for j in range(steps + 1):\n",
    "        # Calculate new latitude and longitude\n",
    "        lat_shift = geopy.distance.distance(meters=i*step).destination(origin, 0).latitude - origin[0]\n",
    "        lon_shift = geopy.distance.distance(meters=j*step).destination(origin, 90).longitude - origin[1]\n",
    "        new_lat = origin[0] + lat_shift\n",
    "        new_lon = origin[1] + lon_shift\n",
    "        coordinates.append((new_lat, new_lon))\n",
    "\n",
    "# Create a KML file\n",
    "kml = Kml()\n",
    "for coord in coordinates:\n",
    "    kml.newpoint(coords=[(coord[1], coord[0])])\n",
    "\n",
    "# Save the KML file\n",
    "kml.save(\"coordinates.kml\")\n",
    "\n",
    "# Create a map centered at the origin\n",
    "m = folium.Map(location=origin, zoom_start=18)\n",
    "\n",
    "# Add each generated coordinate to the map as a marker\n",
    "for coord in coordinates:\n",
    "    folium.Marker(location=[coord[0], coord[1]]).add_to(m)\n",
    "\n",
    "# Save the map as an HTML file\n",
    "m.save(\"coordinates_map.html\")\n",
    "\n",
    "print(\"KML file and map have been created.\")\n"
   ]
  },
  {
   "cell_type": "code",
   "execution_count": null,
   "id": "695dec03-47f0-4429-a5c5-723783f09855",
   "metadata": {},
   "outputs": [],
   "source": []
  }
 ],
 "metadata": {
  "kernelspec": {
   "display_name": "Python 3 (ipykernel)",
   "language": "python",
   "name": "python3"
  },
  "language_info": {
   "codemirror_mode": {
    "name": "ipython",
    "version": 3
   },
   "file_extension": ".py",
   "mimetype": "text/x-python",
   "name": "python",
   "nbconvert_exporter": "python",
   "pygments_lexer": "ipython3",
   "version": "3.12.1"
  }
 },
 "nbformat": 4,
 "nbformat_minor": 5
}
